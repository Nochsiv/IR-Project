{
 "cells": [
  {
   "cell_type": "markdown",
   "metadata": {},
   "source": [
    "# Movie Search Engine with Okapi BM25 Ranking"
   ]
  },
  {
   "cell_type": "code",
   "execution_count": 19,
   "metadata": {},
   "outputs": [],
   "source": [
    "# import required libraries\n",
    "import pandas as pd\n",
    "from nltk.corpus import stopwords\n",
    "from nltk.tokenize import word_tokenize\n",
    "# !!pip install rank_bm25\n",
    "from rank_bm25 import BM25Okapi\n",
    "import sqlite3\n"
   ]
  },
  {
   "cell_type": "code",
   "execution_count": 20,
   "metadata": {},
   "outputs": [],
   "source": [
    "# Load movie dataset\n",
    "conn = sqlite3.connect(\"datasets/netflix_titles.db\")\n",
    "df = pd.read_sql(\"select * from netflix_titles\", conn)\n",
    "storys = df.copy()"
   ]
  },
  {
   "cell_type": "code",
   "execution_count": 22,
   "metadata": {},
   "outputs": [],
   "source": [
    "# Preprocess data\n",
    "df['title'] = (df['title']+' '+ df['description']+' '+ df['release_year'].astype(str)).str.lower()\n",
    "df['title'] = df['title'].apply(word_tokenize)\n",
    "stop_words = set(stopwords.words('english'))\n",
    "df['title'] = df['title'].apply(lambda x: [word for word in x if word not in stop_words])"
   ]
  },
  {
   "cell_type": "code",
   "execution_count": 23,
   "metadata": {},
   "outputs": [],
   "source": [
    "# Create and build BM25 Model \n",
    "bm25 = BM25Okapi(df['title'].tolist())"
   ]
  },
  {
   "cell_type": "code",
   "execution_count": 24,
   "metadata": {},
   "outputs": [],
   "source": [
    "# save the model to disk\n",
    "import pickle\n",
    "filename = 'bm25_model.sav'\n",
    "pickle.dump(bm25, open(filename, 'wb'))"
   ]
  },
  {
   "cell_type": "code",
   "execution_count": 25,
   "metadata": {},
   "outputs": [],
   "source": [
    "# load the model from disk\n",
    "bm25 = pickle.load(open(filename, 'rb'))"
   ]
  },
  {
   "cell_type": "code",
   "execution_count": 26,
   "metadata": {},
   "outputs": [],
   "source": [
    "def search(query):\n",
    "    tokenized_query = word_tokenize(query.lower())\n",
    "    doc_scores = bm25.get_scores(tokenized_query)\n",
    "    # return doc_scores\n",
    "    storys['scores'] = doc_scores\n",
    "    return storys.nlargest(5, 'scores')"
   ]
  },
  {
   "cell_type": "code",
   "execution_count": 27,
   "metadata": {},
   "outputs": [
    {
     "data": {
      "text/html": [
       "<div>\n",
       "<style scoped>\n",
       "    .dataframe tbody tr th:only-of-type {\n",
       "        vertical-align: middle;\n",
       "    }\n",
       "\n",
       "    .dataframe tbody tr th {\n",
       "        vertical-align: top;\n",
       "    }\n",
       "\n",
       "    .dataframe thead th {\n",
       "        text-align: right;\n",
       "    }\n",
       "</style>\n",
       "<table border=\"1\" class=\"dataframe\">\n",
       "  <thead>\n",
       "    <tr style=\"text-align: right;\">\n",
       "      <th></th>\n",
       "      <th>index</th>\n",
       "      <th>title</th>\n",
       "      <th>actors</th>\n",
       "      <th>release_year</th>\n",
       "      <th>rating</th>\n",
       "      <th>description</th>\n",
       "      <th>duration</th>\n",
       "      <th>ranking</th>\n",
       "      <th>scores</th>\n",
       "    </tr>\n",
       "  </thead>\n",
       "  <tbody>\n",
       "    <tr>\n",
       "      <th>8803</th>\n",
       "      <td>8803</td>\n",
       "      <td>Zombie Dumb</td>\n",
       "      <td>empty</td>\n",
       "      <td>2018</td>\n",
       "      <td>TV-Y7</td>\n",
       "      <td>While living alone in a spooky town, a young g...</td>\n",
       "      <td>2 Seasons</td>\n",
       "      <td>0.0</td>\n",
       "      <td>9.277093</td>\n",
       "    </tr>\n",
       "    <tr>\n",
       "      <th>7871</th>\n",
       "      <td>7871</td>\n",
       "      <td>Rise of the Zombie</td>\n",
       "      <td>Luke Kenny, Kirti Kulhari, Ashwin Mushran, Ben...</td>\n",
       "      <td>2013</td>\n",
       "      <td>TV-MA</td>\n",
       "      <td>A heartbroken wildlife photographer throws him...</td>\n",
       "      <td>83 min</td>\n",
       "      <td>0.0</td>\n",
       "      <td>7.283041</td>\n",
       "    </tr>\n",
       "    <tr>\n",
       "      <th>390</th>\n",
       "      <td>390</td>\n",
       "      <td>The Walking Dead</td>\n",
       "      <td>Andrew Lincoln, Steven Yeun, Norman Reedus, Ch...</td>\n",
       "      <td>2019</td>\n",
       "      <td>TV-MA</td>\n",
       "      <td>In the wake of a zombie apocalypse, survivors ...</td>\n",
       "      <td>10 Seasons</td>\n",
       "      <td>0.0</td>\n",
       "      <td>6.766935</td>\n",
       "    </tr>\n",
       "    <tr>\n",
       "      <th>6961</th>\n",
       "      <td>6961</td>\n",
       "      <td>Here Alone</td>\n",
       "      <td>Lucy Walters, Gina Piersanti, Adam David Thomp...</td>\n",
       "      <td>2016</td>\n",
       "      <td>TV-MA</td>\n",
       "      <td>When she finally encounters two other survivor...</td>\n",
       "      <td>97 min</td>\n",
       "      <td>0.0</td>\n",
       "      <td>6.610780</td>\n",
       "    </tr>\n",
       "    <tr>\n",
       "      <th>7216</th>\n",
       "      <td>7216</td>\n",
       "      <td>KL Zombi</td>\n",
       "      <td>Zizan Razak, Siti Saleha, Zain Hamid, Izara Ai...</td>\n",
       "      <td>2013</td>\n",
       "      <td>TV-14</td>\n",
       "      <td>A field hockey-playing pizza delivery boy find...</td>\n",
       "      <td>92 min</td>\n",
       "      <td>0.0</td>\n",
       "      <td>6.610780</td>\n",
       "    </tr>\n",
       "  </tbody>\n",
       "</table>\n",
       "</div>"
      ],
      "text/plain": [
       "      index               title  \\\n",
       "8803   8803         Zombie Dumb   \n",
       "7871   7871  Rise of the Zombie   \n",
       "390     390    The Walking Dead   \n",
       "6961   6961          Here Alone   \n",
       "7216   7216            KL Zombi   \n",
       "\n",
       "                                                 actors  release_year rating  \\\n",
       "8803                                              empty          2018  TV-Y7   \n",
       "7871  Luke Kenny, Kirti Kulhari, Ashwin Mushran, Ben...          2013  TV-MA   \n",
       "390   Andrew Lincoln, Steven Yeun, Norman Reedus, Ch...          2019  TV-MA   \n",
       "6961  Lucy Walters, Gina Piersanti, Adam David Thomp...          2016  TV-MA   \n",
       "7216  Zizan Razak, Siti Saleha, Zain Hamid, Izara Ai...          2013  TV-14   \n",
       "\n",
       "                                            description    duration  ranking  \\\n",
       "8803  While living alone in a spooky town, a young g...   2 Seasons      0.0   \n",
       "7871  A heartbroken wildlife photographer throws him...      83 min      0.0   \n",
       "390   In the wake of a zombie apocalypse, survivors ...  10 Seasons      0.0   \n",
       "6961  When she finally encounters two other survivor...      97 min      0.0   \n",
       "7216  A field hockey-playing pizza delivery boy find...      92 min      0.0   \n",
       "\n",
       "        scores  \n",
       "8803  9.277093  \n",
       "7871  7.283041  \n",
       "390   6.766935  \n",
       "6961  6.610780  \n",
       "7216  6.610780  "
      ]
     },
     "execution_count": 27,
     "metadata": {},
     "output_type": "execute_result"
    }
   ],
   "source": [
    "search(\"zombie\")"
   ]
  }
 ],
 "metadata": {
  "kernelspec": {
   "display_name": "base",
   "language": "python",
   "name": "python3"
  },
  "language_info": {
   "codemirror_mode": {
    "name": "ipython",
    "version": 3
   },
   "file_extension": ".py",
   "mimetype": "text/x-python",
   "name": "python",
   "nbconvert_exporter": "python",
   "pygments_lexer": "ipython3",
   "version": "3.11.4"
  }
 },
 "nbformat": 4,
 "nbformat_minor": 2
}
